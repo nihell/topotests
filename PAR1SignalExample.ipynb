{
 "cells": [
  {
   "cell_type": "markdown",
   "metadata": {},
   "source": [
    "# Two Sample Topo Test For Cyclostationary Signals"
   ]
  },
  {
   "cell_type": "markdown",
   "metadata": {},
   "source": [
    "This notbook shows how to process cyclostationary signals for use with the TopoTest code base."
   ]
  },
  {
   "cell_type": "code",
   "execution_count": 2,
   "metadata": {},
   "outputs": [],
   "source": [
    "import sys\n",
    "import pandas as pd\n",
    "import numpy as np\n",
    "sys.path.append('topotests/')\n",
    "from topotests.topotests import TopoTestTwosample\n",
    "\n",
    "# import some random variables (RV) generators\n",
    "from scipy.stats import levy_stable\n",
    "# import univariate Kolmogorov-Smirnov test\n",
    "from scipy.stats import ks_2samp\n",
    "\n",
    "# set random number generator seed for reproducibility\n",
    "np.random.seed(seed=12345)"
   ]
  },
  {
   "cell_type": "markdown",
   "metadata": {},
   "source": [
    "A periodic autoregressive model of order 1 (PAR(1)) is defined by $X_t = \\phi_{t}X_{t-1} + \\varepsilon_t$, where $\\varepsilon_t\\sim \\mathcal{N}(0,1)$.\n",
    "The periodicity is built into the coefficients via $\\phi_t = \\phi_{t+T}$, with $T$ being the period.\n",
    "We are also interested in processes $Y_t = X_t + \\sigma_Z Z_t$, where $X_t$ is PAR(1), $Z_t$ is stationary $\\alpha$-stable noise and $\\sigma_Z>0$."
   ]
  },
  {
   "cell_type": "code",
   "execution_count": 7,
   "metadata": {},
   "outputs": [],
   "source": [
    "def PAR1_gauss(phi,sigmaE,N,seed):\n",
    "    #phi - vector of coefficients phi_1(1),...,phi_1(T)\n",
    "    #sigmaE - st. deviation of innovations (they have N(0,sigmaE) distribution)\n",
    "    #N - sample length\n",
    "    rng = np.random.default_rng(seed=seed)\n",
    "    T = len(phi)\n",
    "    periods_before = 50\n",
    "    E = rng.normal(0,sigmaE,N+T*periods_before)\n",
    "    X = np.empty((N+T*periods_before,))\n",
    "    X[0] = E[0]\n",
    "    for j in range(1,N+T*periods_before):\n",
    "        ind = j%T\n",
    "        X[j] = phi[ind]*X[j-1] + E[j]\n",
    "    X = X[periods_before*T:]\n",
    "    return X\n",
    "\n",
    "def create_signal(phi, seed, N=1000, sigmaE=1, alpha=2, sigmaZ=0.8):\n",
    "    X = PAR1_gauss(phi,sigmaE,N,seed=seed) #\"pure\" PAR1 sample (no additive noise yet)\n",
    "    Z = sigmaZ*levy_stable.rvs(alpha,0,loc=0,scale=1,size=N, random_state=seed)\n",
    "    Y = X + Z # final sample: PAR1 with additive noise\n",
    "\n",
    "    return Y"
   ]
  },
  {
   "cell_type": "markdown",
   "metadata": {},
   "source": [
    "Let us sample different trajectories."
   ]
  },
  {
   "cell_type": "code",
   "execution_count": 19,
   "metadata": {},
   "outputs": [],
   "source": [
    "W = create_signal([-0.4,0.6,0.8,-0.7],seed=0)\n",
    "X = create_signal([-0.4,0.6,0.8,-0.7],seed=1)\n",
    "Y = create_signal([-0.4,0.6,0.8,-0.7], sigmaZ=0, seed=2)\n",
    "Z = create_signal([0.5,0.7,-0.9,0.6], sigmaZ=0, seed=3)"
   ]
  },
  {
   "cell_type": "markdown",
   "metadata": {},
   "source": [
    "Now Topotest works in the spatial domain, into which the time series need to be transformed. Regarding blocks of length $T$ successive observations as a point in $\\mathbb{R}^T$, we construct a stationary point process:\n",
    "$$\n",
    "    (X_1, X_2, ...) \\mapsto \\{(X_1,...,X_T), (X_{T+1}, ... ,X_{2T}), ...\\}.\n",
    "$$"
   ]
  },
  {
   "cell_type": "code",
   "execution_count": 20,
   "metadata": {},
   "outputs": [],
   "source": [
    "embW = np.array([W[i:i+4] for i in range(0,len(W),4)])\n",
    "embX = np.array([X[i:i+4] for i in range(0,len(X),4)])\n",
    "embY = np.array([Y[i:i+4] for i in range(0,len(Y),4)])\n",
    "embZ = np.array([Z[i:i+4] for i in range(0,len(Z),4)])"
   ]
  },
  {
   "cell_type": "markdown",
   "metadata": {},
   "source": [
    "Note however, that this point process is very much not spatially independent. Let us find out whether the Topotest still works."
   ]
  },
  {
   "cell_type": "code",
   "execution_count": 21,
   "metadata": {},
   "outputs": [
    {
     "name": "stdout",
     "output_type": "stream",
     "text": [
      "TopoTestResult(statistic=0.15200000000000014, pvalue=0.732)\n"
     ]
    }
   ],
   "source": [
    "print(TopoTestTwosample(X1=embW, X2=embX))"
   ]
  },
  {
   "cell_type": "code",
   "execution_count": 18,
   "metadata": {},
   "outputs": [
    {
     "name": "stdout",
     "output_type": "stream",
     "text": [
      "TopoTestResult(statistic=0.7080000000000006, pvalue=0.0)\n",
      "TopoTestResult(statistic=0.7200000000000006, pvalue=0.0)\n",
      "TopoTestResult(statistic=0.1160000000000001, pvalue=0.958)\n"
     ]
    }
   ],
   "source": [
    "print(TopoTestTwosample(X1=embX, X2=embY))\n",
    "print(TopoTestTwosample(X1=embX, X2=embZ))\n",
    "print(TopoTestTwosample(X1=embY, X2=embZ))\n",
    "      "
   ]
  },
  {
   "cell_type": "markdown",
   "metadata": {},
   "source": [
    "The results seem to indicate that TopoTest is able to distinguish between the pure PAR(1) model and the one with added noise independently from the choice of coefficients $\\phi$."
   ]
  }
 ],
 "metadata": {
  "kernelspec": {
   "display_name": "TopoTests",
   "language": "python",
   "name": "python3"
  },
  "language_info": {
   "codemirror_mode": {
    "name": "ipython",
    "version": 3
   },
   "file_extension": ".py",
   "mimetype": "text/x-python",
   "name": "python",
   "nbconvert_exporter": "python",
   "pygments_lexer": "ipython3",
   "version": "3.10.8"
  },
  "orig_nbformat": 4
 },
 "nbformat": 4,
 "nbformat_minor": 2
}
